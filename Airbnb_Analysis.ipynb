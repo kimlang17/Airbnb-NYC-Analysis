{
 "cells": [
  {
   "cell_type": "markdown",
   "id": "3a5c4b49-a58f-497b-92cb-175a952f9774",
   "metadata": {},
   "source": [
    "# Airbnb New York City"
   ]
  },
  {
   "cell_type": "markdown",
   "id": "c77eedb2-96a3-4926-947b-014ea4c55b6b",
   "metadata": {},
   "source": [
    "## Import data from Github"
   ]
  },
  {
   "cell_type": "code",
   "execution_count": 9,
   "id": "7df81ff1-b0cc-46d2-aa86-9f762a070497",
   "metadata": {},
   "outputs": [],
   "source": [
    "import pandas as pd\n",
    "airbnb_price_url = 'https://raw.githubusercontent.com/EbGazar/Exploring-NYC-Airbnb-Market/main/Datasets/airbnb_price.csv'\n",
    "airbnb_last_review_url = 'https://raw.githubusercontent.com/EbGazar/Exploring-NYC-Airbnb-Market/main/Datasets/airbnb_last_review.tsv'\n",
    "\n",
    "# Read the CSV file into a pandas DataFrame\n",
    "airbnb_price_df = pd.read_csv(airbnb_price_url)\n",
    "airbnb_last_review_df = pd.read_csv(airbnb_last_review_url, delimiter='\\t')\n",
    "airbnb_room_type_df = pd.read_excel('airbnb_room_type.xlsx')\n",
    "\n",
    "# Merge DataFrames based on 'listing_id'\n",
    "combined_data = pd.merge(airbnb_price_df, airbnb_last_review_df, on='listing_id', how='outer')\n",
    "combined_data = pd.merge(combined_data, airbnb_room_type_df, on='listing_id', how='outer')\n",
    "\n",
    "# Save the combined data to an Excel file\n",
    "combined_data.to_excel('merged_file.xlsx', index=False)\n"
   ]
  },
  {
   "cell_type": "code",
   "execution_count": 10,
   "id": "38016055-2c4a-4f92-aea0-a96a2afdc537",
   "metadata": {},
   "outputs": [
    {
     "data": {
      "text/html": [
       "<div>\n",
       "<style scoped>\n",
       "    .dataframe tbody tr th:only-of-type {\n",
       "        vertical-align: middle;\n",
       "    }\n",
       "\n",
       "    .dataframe tbody tr th {\n",
       "        vertical-align: top;\n",
       "    }\n",
       "\n",
       "    .dataframe thead th {\n",
       "        text-align: right;\n",
       "    }\n",
       "</style>\n",
       "<table border=\"1\" class=\"dataframe\">\n",
       "  <thead>\n",
       "    <tr style=\"text-align: right;\">\n",
       "      <th></th>\n",
       "      <th>listing_id</th>\n",
       "      <th>price</th>\n",
       "      <th>nbhood_full</th>\n",
       "      <th>host_name</th>\n",
       "      <th>last_review</th>\n",
       "      <th>description</th>\n",
       "      <th>room_type</th>\n",
       "    </tr>\n",
       "  </thead>\n",
       "  <tbody>\n",
       "    <tr>\n",
       "      <th>0</th>\n",
       "      <td>2595</td>\n",
       "      <td>225 dollars</td>\n",
       "      <td>Manhattan, Midtown</td>\n",
       "      <td>Jennifer</td>\n",
       "      <td>May 21 2019</td>\n",
       "      <td>Skylit Midtown Castle</td>\n",
       "      <td>Entire home/apt</td>\n",
       "    </tr>\n",
       "    <tr>\n",
       "      <th>1</th>\n",
       "      <td>3831</td>\n",
       "      <td>89 dollars</td>\n",
       "      <td>Brooklyn, Clinton Hill</td>\n",
       "      <td>LisaRoxanne</td>\n",
       "      <td>July 05 2019</td>\n",
       "      <td>Cozy Entire Floor of Brownstone</td>\n",
       "      <td>Entire home/apt</td>\n",
       "    </tr>\n",
       "    <tr>\n",
       "      <th>2</th>\n",
       "      <td>5099</td>\n",
       "      <td>200 dollars</td>\n",
       "      <td>Manhattan, Murray Hill</td>\n",
       "      <td>Chris</td>\n",
       "      <td>June 22 2019</td>\n",
       "      <td>Large Cozy 1 BR Apartment In Midtown East</td>\n",
       "      <td>Entire home/apt</td>\n",
       "    </tr>\n",
       "    <tr>\n",
       "      <th>3</th>\n",
       "      <td>5178</td>\n",
       "      <td>79 dollars</td>\n",
       "      <td>Manhattan, Hell's Kitchen</td>\n",
       "      <td>Shunichi</td>\n",
       "      <td>June 24 2019</td>\n",
       "      <td>Large Furnished Room Near B'way</td>\n",
       "      <td>private room</td>\n",
       "    </tr>\n",
       "    <tr>\n",
       "      <th>4</th>\n",
       "      <td>5238</td>\n",
       "      <td>150 dollars</td>\n",
       "      <td>Manhattan, Chinatown</td>\n",
       "      <td>Ben</td>\n",
       "      <td>June 09 2019</td>\n",
       "      <td>Cute &amp; Cozy Lower East Side 1 bdrm</td>\n",
       "      <td>Entire home/apt</td>\n",
       "    </tr>\n",
       "    <tr>\n",
       "      <th>...</th>\n",
       "      <td>...</td>\n",
       "      <td>...</td>\n",
       "      <td>...</td>\n",
       "      <td>...</td>\n",
       "      <td>...</td>\n",
       "      <td>...</td>\n",
       "      <td>...</td>\n",
       "    </tr>\n",
       "    <tr>\n",
       "      <th>25204</th>\n",
       "      <td>36425863</td>\n",
       "      <td>129 dollars</td>\n",
       "      <td>Manhattan, Upper East Side</td>\n",
       "      <td>Rusaa</td>\n",
       "      <td>July 07 2019</td>\n",
       "      <td>Lovely Privet Bedroom with Privet Restroom</td>\n",
       "      <td>PRIVATE ROOM</td>\n",
       "    </tr>\n",
       "    <tr>\n",
       "      <th>25205</th>\n",
       "      <td>36427429</td>\n",
       "      <td>45 dollars</td>\n",
       "      <td>Queens, Flushing</td>\n",
       "      <td>H Ai</td>\n",
       "      <td>July 07 2019</td>\n",
       "      <td>No.2 with queen size bed</td>\n",
       "      <td>PRIVATE ROOM</td>\n",
       "    </tr>\n",
       "    <tr>\n",
       "      <th>25206</th>\n",
       "      <td>36438336</td>\n",
       "      <td>235 dollars</td>\n",
       "      <td>Staten Island, Great Kills</td>\n",
       "      <td>Ben</td>\n",
       "      <td>July 07 2019</td>\n",
       "      <td>Seas The Moment</td>\n",
       "      <td>Private room</td>\n",
       "    </tr>\n",
       "    <tr>\n",
       "      <th>25207</th>\n",
       "      <td>36442252</td>\n",
       "      <td>100 dollars</td>\n",
       "      <td>Bronx, Mott Haven</td>\n",
       "      <td>Blaine</td>\n",
       "      <td>July 07 2019</td>\n",
       "      <td>1B-1B apartment near by Metro</td>\n",
       "      <td>Entire home/apt</td>\n",
       "    </tr>\n",
       "    <tr>\n",
       "      <th>25208</th>\n",
       "      <td>36455809</td>\n",
       "      <td>30 dollars</td>\n",
       "      <td>Brooklyn, Bushwick</td>\n",
       "      <td>Christine</td>\n",
       "      <td>July 08 2019</td>\n",
       "      <td>Cozy Private Room in Bushwick, Brooklyn</td>\n",
       "      <td>Private room</td>\n",
       "    </tr>\n",
       "  </tbody>\n",
       "</table>\n",
       "<p>25209 rows × 7 columns</p>\n",
       "</div>"
      ],
      "text/plain": [
       "       listing_id        price                 nbhood_full    host_name  \\\n",
       "0            2595  225 dollars          Manhattan, Midtown     Jennifer   \n",
       "1            3831   89 dollars      Brooklyn, Clinton Hill  LisaRoxanne   \n",
       "2            5099  200 dollars      Manhattan, Murray Hill        Chris   \n",
       "3            5178   79 dollars   Manhattan, Hell's Kitchen     Shunichi   \n",
       "4            5238  150 dollars        Manhattan, Chinatown          Ben   \n",
       "...           ...          ...                         ...          ...   \n",
       "25204    36425863  129 dollars  Manhattan, Upper East Side        Rusaa   \n",
       "25205    36427429   45 dollars            Queens, Flushing         H Ai   \n",
       "25206    36438336  235 dollars  Staten Island, Great Kills          Ben   \n",
       "25207    36442252  100 dollars           Bronx, Mott Haven       Blaine   \n",
       "25208    36455809   30 dollars          Brooklyn, Bushwick    Christine   \n",
       "\n",
       "        last_review                                 description  \\\n",
       "0       May 21 2019                       Skylit Midtown Castle   \n",
       "1      July 05 2019             Cozy Entire Floor of Brownstone   \n",
       "2      June 22 2019   Large Cozy 1 BR Apartment In Midtown East   \n",
       "3      June 24 2019             Large Furnished Room Near B'way   \n",
       "4      June 09 2019          Cute & Cozy Lower East Side 1 bdrm   \n",
       "...             ...                                         ...   \n",
       "25204  July 07 2019  Lovely Privet Bedroom with Privet Restroom   \n",
       "25205  July 07 2019                    No.2 with queen size bed   \n",
       "25206  July 07 2019                             Seas The Moment   \n",
       "25207  July 07 2019               1B-1B apartment near by Metro   \n",
       "25208  July 08 2019     Cozy Private Room in Bushwick, Brooklyn   \n",
       "\n",
       "             room_type  \n",
       "0      Entire home/apt  \n",
       "1      Entire home/apt  \n",
       "2      Entire home/apt  \n",
       "3         private room  \n",
       "4      Entire home/apt  \n",
       "...                ...  \n",
       "25204     PRIVATE ROOM  \n",
       "25205     PRIVATE ROOM  \n",
       "25206     Private room  \n",
       "25207  Entire home/apt  \n",
       "25208     Private room  \n",
       "\n",
       "[25209 rows x 7 columns]"
      ]
     },
     "execution_count": 10,
     "metadata": {},
     "output_type": "execute_result"
    }
   ],
   "source": [
    "combined_data"
   ]
  },
  {
   "cell_type": "markdown",
   "id": "d6d7fccf-fecb-49e6-a96c-4792a8ed4731",
   "metadata": {},
   "source": [
    "## Clean the price column by change the datatype"
   ]
  },
  {
   "cell_type": "code",
   "execution_count": 11,
   "id": "20cf0a69-6b26-4f3b-9be5-ab8cb62caced",
   "metadata": {},
   "outputs": [
    {
     "data": {
      "text/plain": [
       "dtype('O')"
      ]
     },
     "execution_count": 11,
     "metadata": {},
     "output_type": "execute_result"
    }
   ],
   "source": [
    "combined_data['price'].dtype"
   ]
  },
  {
   "cell_type": "code",
   "execution_count": 12,
   "id": "3ac1b80f-5c46-4a10-85f3-0c9a19b0f7b9",
   "metadata": {},
   "outputs": [],
   "source": [
    "# change it from string to float\n",
    "combined_data['price'] = combined_data['price'].str.replace(' dollars', '').astype(float)"
   ]
  },
  {
   "cell_type": "code",
   "execution_count": 13,
   "id": "f86f5262-8e86-48ed-b024-098c9d45538b",
   "metadata": {},
   "outputs": [
    {
     "data": {
      "text/plain": [
       "dtype('float64')"
      ]
     },
     "execution_count": 13,
     "metadata": {},
     "output_type": "execute_result"
    }
   ],
   "source": [
    "combined_data['price'].dtype"
   ]
  },
  {
   "cell_type": "markdown",
   "id": "89e97d6c-1288-406a-952f-33cfb53ec9a8",
   "metadata": {},
   "source": [
    "## Calulate the average price"
   ]
  },
  {
   "cell_type": "code",
   "execution_count": 15,
   "id": "62f98084-be44-48d0-b6fd-12b520cc5ed6",
   "metadata": {},
   "outputs": [
    {
     "data": {
      "text/plain": [
       "141.7779364512674"
      ]
     },
     "execution_count": 15,
     "metadata": {},
     "output_type": "execute_result"
    }
   ],
   "source": [
    "average_price = combined_data['price'].mean()\n",
    "average_price"
   ]
  },
  {
   "cell_type": "code",
   "execution_count": 16,
   "id": "19afdd84-faa6-4127-a883-ce0d255bff70",
   "metadata": {},
   "outputs": [
    {
     "data": {
      "text/plain": [
       "count    25209.000000\n",
       "mean       141.777936\n",
       "std        147.349137\n",
       "min          0.000000\n",
       "25%         69.000000\n",
       "50%        105.000000\n",
       "75%        175.000000\n",
       "max       7500.000000\n",
       "Name: price, dtype: float64"
      ]
     },
     "execution_count": 16,
     "metadata": {},
     "output_type": "execute_result"
    }
   ],
   "source": [
    "combined_data['price'].describe()"
   ]
  },
  {
   "cell_type": "markdown",
   "id": "cb0c8dd8-808c-42e1-997a-1b699c1383a5",
   "metadata": {},
   "source": [
    "## Average Price by Neighborhood"
   ]
  },
  {
   "cell_type": "code",
   "execution_count": 30,
   "id": "c472150e-7b4a-4237-b3c4-682be93f0bd8",
   "metadata": {},
   "outputs": [
    {
     "data": {
      "text/plain": [
       "nbhood_full\n",
       "Brooklyn, Sea Gate              805.000000\n",
       "Manhattan, Tribeca              396.704918\n",
       "Manhattan, Flatiron District    342.055556\n",
       "Manhattan, NoHo                 335.024390\n",
       "Manhattan, SoHo                 299.162304\n",
       "Queens, Neponsit                274.666667\n",
       "Manhattan, Midtown              272.213816\n",
       "Manhattan, West Village         258.762570\n",
       "Staten Island, Willowbrook      249.000000\n",
       "Manhattan, Murray Hill          240.367021\n",
       "Name: price, dtype: float64"
      ]
     },
     "execution_count": 30,
     "metadata": {},
     "output_type": "execute_result"
    }
   ],
   "source": [
    "avg_price_by_neighborhood = combined_data.groupby('nbhood_full')['price'].mean().sort_values(ascending = False)\n",
    "avg_price_by_neighborhood.head(10)"
   ]
  },
  {
   "cell_type": "markdown",
   "id": "512dd8e8-63da-47d2-b595-6b8e07bb9723",
   "metadata": {},
   "source": [
    "## Clean the room_type column"
   ]
  },
  {
   "cell_type": "code",
   "execution_count": 34,
   "id": "e0c1d858-6d96-4e33-bcd2-daff5fbf0e5c",
   "metadata": {},
   "outputs": [
    {
     "data": {
      "text/plain": [
       "0        entire home/apt\n",
       "1        entire home/apt\n",
       "2        entire home/apt\n",
       "3           private room\n",
       "4        entire home/apt\n",
       "              ...       \n",
       "25204       private room\n",
       "25205       private room\n",
       "25206       private room\n",
       "25207    entire home/apt\n",
       "25208       private room\n",
       "Name: room_type, Length: 25209, dtype: object"
      ]
     },
     "execution_count": 34,
     "metadata": {},
     "output_type": "execute_result"
    }
   ],
   "source": [
    "# Clean and standardize the 'room_type' column\n",
    "combined_data['room_type'] = combined_data['room_type'].str.lower().str.strip()\n",
    "combined_data['room_type']"
   ]
  },
  {
   "cell_type": "code",
   "execution_count": 36,
   "id": "74643374-e2cb-4d9f-bc94-d402d1735a7c",
   "metadata": {},
   "outputs": [
    {
     "data": {
      "image/png": "[encoded data removed]",
      "text/plain": [
       "<Figure size 640x480 with 1 Axes>"
      ]
     },
     "metadata": {},
     "output_type": "display_data"
    }
   ],
   "source": [
    "import matplotlib.pyplot as plt\n",
    "\n",
    "# Plot the pie chart\n",
    "room_type_counts = combined_data['room_type'].value_counts()\n",
    "plt.pie(room_type_counts, labels=room_type_counts.index, autopct='%1.1f%%', startangle=90)\n",
    "plt.title('Distribution of Room Types')\n",
    "plt.show()"
   ]
  },
  {
   "cell_type": "markdown",
   "id": "e0b2abbf-3466-4a27-adb9-88c786cbcde3",
   "metadata": {},
   "source": [
    "## Average Price by Room Type"
   ]
  },
  {
   "cell_type": "code",
   "execution_count": 37,
   "id": "7822ea8c-b632-406d-9a25-9158f3ba86a7",
   "metadata": {},
   "outputs": [
    {
     "data": {
      "text/plain": [
       "room_type\n",
       "entire home/apt    197.166667\n",
       "private room        81.638165\n",
       "shared room         53.465077\n",
       "Name: price, dtype: float64"
      ]
     },
     "execution_count": 37,
     "metadata": {},
     "output_type": "execute_result"
    }
   ],
   "source": [
    "avg_price_by_room_type = combined_data.groupby('room_type')['price'].mean().sort_values(ascending = False)\n",
    "avg_price_by_room_type.head(10)"
   ]
  },
  {
   "cell_type": "code",
   "execution_count": 42,
   "id": "28641bf6-90cb-4816-9427-457ac1d4356a",
   "metadata": {},
   "outputs": [
    {
     "data": {
      "image/png": "[encoded data removed]",
      "text/plain": [
       "<Figure size 1000x600 with 1 Axes>"
      ]
     },
     "metadata": {},
     "output_type": "display_data"
    }
   ],
   "source": [
    "import seaborn as sns\n",
    "# Calculate the average price for each room type\n",
    "avg_price_by_room_type = combined_data.groupby('room_type')['price'].mean().reset_index()\n",
    "\n",
    "# Plot the bar graph\n",
    "plt.figure(figsize=(10, 6))\n",
    "sns.barplot(x='room_type', y='price', hue='room_type', data=avg_price_by_room_type, palette='viridis', legend=False)\n",
    "plt.title('Average Price by Room Type')\n",
    "plt.show()"
   ]
  }
 ],
 "metadata": {
  "kernelspec": {
   "display_name": "Python 3 (ipykernel)",
   "language": "python",
   "name": "python3"
  },
  "language_info": {
   "codemirror_mode": {
    "name": "ipython",
    "version": 3
   },
   "file_extension": ".py",
   "mimetype": "text/x-python",
   "name": "python",
   "nbconvert_exporter": "python",
   "pygments_lexer": "ipython3",
   "version": "3.11.4"
  }
 },
 "nbformat": 4,
 "nbformat_minor": 5
}
